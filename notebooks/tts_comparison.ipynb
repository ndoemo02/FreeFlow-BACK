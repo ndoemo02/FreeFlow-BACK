{
 "cells": [
  {
   "cell_type": "markdown",
   "id": "98e809c6",
   "metadata": {},
   "source": [
    "# Porównanie Różnych Silników Text-to-Speech (TTS)\n",
    "\n",
    "Ten notebook przedstawia różne opcje syntezy mowy (TTS) dostępne dla projektu FreeFlow, w tym:\n",
    "- Google Cloud Text-to-Speech\n",
    "- Microsoft Azure Cognitive Services\n",
    "- Amazon Polly\n",
    "- OpenAI TTS\n",
    "- Rozwiązania open source\n",
    "\n",
    "Każdy z tych systemów ma swoje zalety i ograniczenia, które przeanalizujemy pod kątem:\n",
    "- Jakości głosu\n",
    "- Wsparcia dla języka polskiego\n",
    "- Kosztów\n",
    "- Łatwości integracji\n",
    "- Możliwości dostosowania"
   ]
  },
  {
   "cell_type": "markdown",
   "id": "bb726582",
   "metadata": {},
   "source": [
    "## 1. Wymagane Biblioteki\n",
    "\n",
    "Zainstalujmy najpierw potrzebne biblioteki:"
   ]
  },
  {
   "cell_type": "code",
   "execution_count": null,
   "id": "e91710dd",
   "metadata": {},
   "outputs": [],
   "source": [
    "# Instalacja wymaganych bibliotek\n",
    "!pip install google-cloud-texttospeech azure-cognitiveservices-speech boto3 openai TTS"
   ]
  },
  {
   "cell_type": "code",
   "execution_count": null,
   "id": "72ca35e9",
   "metadata": {},
   "outputs": [],
   "source": [
    "# Import bibliotek\n",
    "import os\n",
    "import google.cloud.texttospeech as gtts\n",
    "import azure.cognitiveservices.speech as azure_speech\n",
    "import boto3\n",
    "import openai\n",
    "from TTS.api import TTS\n",
    "\n",
    "# Przykładowy tekst do testów\n",
    "test_text = \"Witaj w FreeFlow! Jak mogę ci dzisiaj pomóc?\""
   ]
  },
  {
   "cell_type": "markdown",
   "id": "d02900e8",
   "metadata": {},
   "source": [
    "## 2. Google Cloud Text-to-Speech\n",
    "\n",
    "Google Cloud oferuje wysokiej jakości syntezę mowy z obsługą wielu języków, w tym polskiego. Szczególnie dobrze radzi sobie z intonacją i naturalnością mowy."
   ]
  },
  {
   "cell_type": "code",
   "execution_count": null,
   "id": "63f69487",
   "metadata": {},
   "outputs": [],
   "source": [
    "# Konfiguracja klienta Google Cloud TTS\n",
    "def google_tts(text, output_file=\"output_google.mp3\"):\n",
    "    client = gtts.TextToSpeechClient()\n",
    "    \n",
    "    # Konfiguracja głosu i parametrów audio\n",
    "    synthesis_input = gtts.SynthesisInput(text=text)\n",
    "    voice = gtts.VoiceSelectionParams(\n",
    "        language_code=\"pl-PL\",\n",
    "        name=\"pl-PL-Wavenet-B\",  # Możesz wybrać inny głos\n",
    "        ssml_gender=gtts.SsmlVoiceGender.NEUTRAL\n",
    "    )\n",
    "    audio_config = gtts.AudioConfig(\n",
    "        audio_encoding=gtts.AudioEncoding.MP3\n",
    "    )\n",
    "    \n",
    "    # Generowanie audio\n",
    "    response = client.synthesize_speech(\n",
    "        input=synthesis_input,\n",
    "        voice=voice,\n",
    "        audio_config=audio_config\n",
    "    )\n",
    "    \n",
    "    # Zapisanie do pliku\n",
    "    with open(output_file, \"wb\") as out:\n",
    "        out.write(response.audio_content)\n",
    "    \n",
    "    return output_file\n",
    "\n",
    "# Test Google TTS\n",
    "try:\n",
    "    output_file = google_tts(test_text)\n",
    "    print(f\"Utworzono plik: {output_file}\")\n",
    "except Exception as e:\n",
    "    print(f\"Błąd podczas generowania Google TTS: {e}\")"
   ]
  },
  {
   "cell_type": "markdown",
   "id": "5b37e7a4",
   "metadata": {},
   "source": [
    "## 3. OpenAI TTS\n",
    "\n",
    "OpenAI oferuje nowoczesny system TTS z wysoką jakością głosu i naturalnym brzmieniem. Aktualnie używany w projekcie."
   ]
  },
  {
   "cell_type": "code",
   "execution_count": null,
   "id": "63e8866f",
   "metadata": {},
   "outputs": [],
   "source": [
    "# Konfiguracja OpenAI TTS\n",
    "def openai_tts(text, output_file=\"output_openai.mp3\", voice=\"nova\"):\n",
    "    try:\n",
    "        response = openai.audio.speech.create(\n",
    "            model=\"tts-1\",\n",
    "            voice=voice,  # dostępne: alloy, echo, fable, onyx, nova, shimmer\n",
    "            input=text\n",
    "        )\n",
    "        response.stream_to_file(output_file)\n",
    "        return output_file\n",
    "    except Exception as e:\n",
    "        print(f\"Błąd podczas generowania OpenAI TTS: {e}\")\n",
    "        return None\n",
    "\n",
    "# Test różnych głosów OpenAI\n",
    "voices = [\"alloy\", \"echo\", \"fable\", \"onyx\", \"nova\", \"shimmer\"]\n",
    "for voice in voices:\n",
    "    try:\n",
    "        output_file = openai_tts(test_text, f\"output_openai_{voice}.mp3\", voice)\n",
    "        print(f\"Utworzono plik dla głosu {voice}: {output_file}\")\n",
    "    except Exception as e:\n",
    "        print(f\"Błąd dla głosu {voice}: {e}\")"
   ]
  },
  {
   "cell_type": "markdown",
   "id": "267d9eb0",
   "metadata": {},
   "source": [
    "## 4. Coqui TTS (Open Source)\n",
    "\n",
    "Coqui TTS to open-source'owe rozwiązanie, które pozwala na lokalną generację mowy bez konieczności korzystania z usług chmurowych."
   ]
  },
  {
   "cell_type": "code",
   "execution_count": null,
   "id": "c2867115",
   "metadata": {},
   "outputs": [],
   "source": [
    "# Konfiguracja Coqui TTS\n",
    "def coqui_tts(text, output_file=\"output_coqui.mp3\"):\n",
    "    try:\n",
    "        # Inicjalizacja modelu\n",
    "        tts = TTS(model_name=\"tts_models/multilingual/multi-dataset/xtts_v2\")\n",
    "        \n",
    "        # Generowanie audio\n",
    "        tts.tts_to_file(text=text, \n",
    "                        file_path=output_file,\n",
    "                        language=\"pl\")\n",
    "        return output_file\n",
    "    except Exception as e:\n",
    "        print(f\"Błąd podczas generowania Coqui TTS: {e}\")\n",
    "        return None\n",
    "\n",
    "# Test Coqui TTS\n",
    "try:\n",
    "    output_file = coqui_tts(test_text)\n",
    "    print(f\"Utworzono plik: {output_file}\")\n",
    "except Exception as e:\n",
    "    print(f\"Błąd: {e}\")"
   ]
  },
  {
   "cell_type": "markdown",
   "id": "c7eb0d1e",
   "metadata": {},
   "source": [
    "## 5. Porównanie Usług TTS\n",
    "\n",
    "Poniżej przedstawiamy porównanie różnych usług TTS pod względem kluczowych parametrów:\n",
    "\n",
    "| Usługa | Jakość Głosu | Wsparcie PL | Koszt | Łatwość Integracji | Offline |\n",
    "|--------|--------------|-------------|-------|-------------------|----------|\n",
    "| OpenAI TTS | Bardzo dobra | Częściowe | $0.015/1K znaki | Łatwa | Nie |\n",
    "| Google TTS | Bardzo dobra | Pełne | $4/1M znaki | Średnia | Nie |\n",
    "| Coqui TTS | Dobra | Pełne | Darmowy | Trudniejsza | Tak |\n",
    "\n",
    "### Rekomendacja\n",
    "1. **OpenAI TTS** (obecnie używane) - najlepsza opcja dla małej i średniej skali, dobra jakość i proste API\n",
    "2. **Google TTS** - dobre wsparcie dla polskiego, ale droższe przy większej skali\n",
    "3. **Coqui TTS** - dobre jako backup lub dla offline deployments"
   ]
  }
 ],
 "metadata": {
  "language_info": {
   "name": "python"
  }
 },
 "nbformat": 4,
 "nbformat_minor": 5
}
